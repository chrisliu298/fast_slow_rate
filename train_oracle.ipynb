{
  "nbformat": 4,
  "nbformat_minor": 0,
  "metadata": {
    "colab": {
      "name": "trainer2.ipynb",
      "provenance": [],
      "collapsed_sections": [],
      "machine_shape": "hm"
    },
    "kernelspec": {
      "name": "python3",
      "display_name": "Python 3"
    },
    "accelerator": "GPU"
  },
  "cells": [
    {
      "cell_type": "code",
      "metadata": {
        "id": "ShhJ-SSMAJpi",
        "colab_type": "code",
        "colab": {}
      },
      "source": [
        "# Models\n",
        "import tensorflow as tf\n",
        "from tensorflow.keras.preprocessing.text import Tokenizer\n",
        "from tensorflow.keras.preprocessing.sequence import pad_sequences\n",
        "from tensorflow.keras.models import Sequential\n",
        "from tensorflow.keras.layers import Embedding\n",
        "from tensorflow.keras.layers import Dense\n",
        "from tensorflow.keras.layers import LSTM, Bidirectional\n",
        "from tensorflow.keras.layers import GlobalMaxPool1D\n",
        "from tensorflow.keras.layers import Dropout\n",
        "from tensorflow.keras.callbacks import EarlyStopping, ModelCheckpoint\n",
        "from tensorflow.keras.optimizers import Adam\n",
        "\n",
        "# Dataset\n",
        "import tensorflow_datasets as tfds\n",
        "\n",
        "# Others\n",
        "from statistics import mean\n",
        "import json\n",
        "import glob\n",
        "import random\n",
        "import numpy as np\n",
        "import matplotlib.pyplot as plt\n",
        "from timeit import default_timer as timer"
      ],
      "execution_count": 0,
      "outputs": []
    },
    {
      "cell_type": "code",
      "metadata": {
        "id": "9MSVPQL3BvAz",
        "colab_type": "code",
        "colab": {}
      },
      "source": [
        "vocab_size = 20000\n",
        "train_size = 14000\n",
        "valid_size = 2000\n",
        "test_size = 12500\n",
        "oov_token = \"<OOV>\"\n",
        "trunc_type = \"post\"\n",
        "padding = \"pre\"\n",
        "max_len = 512\n",
        "embedding_dim = 50\n",
        "\n",
        "batch_size = 32\n",
        "epochs = 50\n",
        "patience = 10\n",
        "callbacks = [\n",
        "    EarlyStopping(\n",
        "        monitor=\"val_accuracy\",\n",
        "        patience=patience,\n",
        "        restore_best_weights=False,\n",
        "    )\n",
        "]"
      ],
      "execution_count": 0,
      "outputs": []
    },
    {
      "cell_type": "code",
      "metadata": {
        "id": "Ya4PCpOXAKp1",
        "colab_type": "code",
        "colab": {}
      },
      "source": [
        "imdb = tfds.load(\"imdb_reviews\", as_supervised=True, shuffle_files=True)\n",
        "train_dataset = imdb[\"train\"]\n",
        "test_dataset = imdb[\"test\"]\n",
        "\n",
        "train_text = []\n",
        "train_labels = []\n",
        "test_text = []\n",
        "test_labels = []\n",
        "\n",
        "# Put sentences and labels in lists\n",
        "for s, l in train_dataset:\n",
        "    train_text.append(str(s.numpy()))\n",
        "    train_labels.append(l.numpy())\n",
        "\n",
        "for s, l in test_dataset:\n",
        "    test_text.append(str(s.numpy()))\n",
        "    test_labels.append(l.numpy())\n",
        "\n",
        "\n",
        "# Convert them into numpy arrays\n",
        "train_text, train_labels, test_text, test_labels = (\n",
        "    np.array(train_text),\n",
        "    np.array(train_labels),\n",
        "    np.array(test_text),\n",
        "    np.array(test_labels),\n",
        ")\n",
        "\n",
        "# Shuffle the train/test set\n",
        "train_rand = np.arange(len(train_text))\n",
        "np.random.seed(42)\n",
        "np.random.shuffle(train_rand)\n",
        "train_text = train_text[train_rand]\n",
        "train_labels = train_labels[train_rand]\n",
        "\n",
        "test_rand = np.arange(len(test_text))\n",
        "np.random.seed(42)\n",
        "np.random.shuffle(test_rand)\n",
        "test_text = test_text[test_rand]\n",
        "test_labels = test_labels[test_rand]\n",
        "\n",
        "\n",
        "# Take the subset of the data\n",
        "train_reviews, valid_reviews = (\n",
        "    train_text[: train_size],\n",
        "    train_text[-valid_size :],\n",
        ")\n",
        "\n",
        "train_sentiments, valid_sentiments = (\n",
        "    np.array(train_labels[: train_size]),\n",
        "    np.array(train_labels[-valid_size :]),\n",
        ")\n",
        "\n",
        "test_reviews = test_text[: test_size]\n",
        "test_sentiments = np.array(test_labels[: test_size])\n",
        "\n",
        "tokenizer = Tokenizer(num_words=vocab_size, oov_token=oov_token)\n",
        "tokenizer.fit_on_texts(train_reviews)\n",
        "\n",
        "train_seq = tokenizer.texts_to_sequences(train_reviews)\n",
        "train_padded = pad_sequences(\n",
        "    train_seq,\n",
        "    maxlen=max_len,\n",
        "    truncating=trunc_type,\n",
        "    padding=padding,\n",
        ")\n",
        "valid_seq = tokenizer.texts_to_sequences(valid_reviews)\n",
        "valid_padded = pad_sequences(\n",
        "    valid_seq,\n",
        "    maxlen=max_len,\n",
        "    truncating=trunc_type,\n",
        "    padding=padding,\n",
        ")\n",
        "test_seq = tokenizer.texts_to_sequences(test_reviews)\n",
        "test_padded = pad_sequences(\n",
        "    test_seq,\n",
        "    maxlen=max_len,\n",
        "    truncating=trunc_type,\n",
        "    padding=padding,\n",
        ")"
      ],
      "execution_count": 0,
      "outputs": []
    },
    {
      "cell_type": "code",
      "metadata": {
        "id": "7VDuOTkpR-F8",
        "colab_type": "code",
        "colab": {
          "base_uri": "https://localhost:8080/",
          "height": 141
        },
        "outputId": "f6055370-fbd1-4b96-9a27-eb2176caf553"
      },
      "source": [
        "train_reviews[:5]"
      ],
      "execution_count": 4,
      "outputs": [
        {
          "output_type": "execute_result",
          "data": {
            "text/plain": [
              "array(['b\\'I watched \"Elephant Walk\" for the first time in about 30 years and was struck by how similar the story line is to the greatly superior \"Rebecca.\" As others have said, you have the sweet young thing swept off her feet by the alternately charming and brooding lord of the manor, only to find her marriage threatened by the inescapable memory of a larger-than-life yet deeply flawed relative. You have the stern and disapproving servant, a crisis that will either bind the couple together or tear them irreparably apart, climaxed by the fiery destruction of the lavish homestead.<br /><br />Meanwhile, \"Elephant Walk\" also owes some of its creepy jungle atmosphere to \"The Letter,\" the Bette Davis love triangle set on a Singapore rubber plantation rather than a Sri Lankan tea plantation.<br /><br />Maltin gives \"Elephant Walk\" just two stars, and IMDb readers aren\\\\\\'t much kinder, but I enjoyed it despite its predictability. Elizabeth Taylor never looked lovelier, and Peter Finch does a credible job as the basically good man unable to shake off the influence of his overbearing father. Dana Andrews -- a favorite in \"Laura\" and \"The Best Year of Our Lives\" -- is wasted as Elizabeth\\\\\\'s frustrated admirer. The real star is the bungalow, one of the most beautiful interior sets in movie history.\\'',\n",
              "       'b\"I would put this at the top of my list of films in the category of unwatchable trash! There are films that are bad, but the worst kind are the ones that are unwatchable but you are suppose to like them because they are supposed to be good for you! The sex sequences, so shocking in its day, couldn\\'t even arouse a rabbit. The so called controversial politics is strictly high school sophomore amateur night Marxism. The film is self-consciously arty in the worst sense of the term. The photography is in a harsh grainy black and white. Some scenes are out of focus or taken from the wrong angle. Even the sound is bad! And some people call this art?<br /><br />\"',\n",
              "       'b\\'Police, investigations, murder, suspicion: we are all so acquainted with them in movies galore. Most of the films nowadays deal with crime which is believed to involve viewers, to provide them with a thrilling atmosphere. However, most of thrill lovers will rather concentrate on latest movies of that sort forgetting about older ones. Yet, it occurs that these people may easily be misled. A film entirely based on suspicion may be very interesting now despite being more than 20 years old...it is GARDE A VUE, a unique movie by Claude Miller.<br /><br />Is there much of the action? Not really since the events presented in the movie take place in a considerably short time. But the way they are executed is the movie\\\\\\'s great plus. Jerome Charles Martinaud (Michel Serrault) is being investigated by Inspector Gallien (Lino Ventura) and Insector Belmont (Guy Marchand). It\\\\\\'s a New Year\\\\\\'s Eve, a rainy evening and not very accurate for such a meeting. Yet, after the rape and murder of two children, at the dawn of the old year, the door of suspicion must be open at last. In other words, (more quoted from the movie), it must be revealed who an evil wolf really is. To achieve this, one needs lots of effort and also lots of emotions from both parties...<br /><br />Some people criticize the script for being too wordy. Yet, I would ask them: what should an investigation be like if not many questions and, practically, much talk. This wordiness touches the very roots of the genre. In no way is this boring but throughout the entire film, it makes you, as a viewer, as an observer, involved. Moreover, the film contains well made flashbacks as the stories are being told. Not too much and not too little of them - just enough to make the whole story clearer and more interesting. The most memorable flashbacks, for me, are when Chantal (Romy Schneider), Martinaud\\\\\\'s wife, talks about one lovely Christmas... But these flashbacks also contain the views of the places, including the infamous beach. It all wonderfully helped me keep the right pace. And since I saw GARDE A VUE, I always mention this film as one of the \"defenders\" of French cinema against accusations of mess and chaos. <br /><br />But those already mentioned aspects may not necessarily appeal to many viewers since they might not like such movies and still won\\\\\\'t find the content and its execution satisfactory. Yet, GARDE A VUE is worth seeing also for such people. Why? For the sake of performances. But here don\\\\\\'t expect me to praise foremost Romy Schneider. GARDE A VUE is not Romy Schneider vehicle. She does a terrific job as a mother who is deeply in despair for a lost child. She credibly portrays a person who is calm, concrete, who does not refuse an offered cup of tea but who does not want to play with words. Her part which includes a profound talk of life and duty is brilliant, more credible than the overly melancholic role of Elsa in LA PASSANTE DE SANS SOUCI. It is still acted. However, Romy Schneider does not have much time on screen. Practically, she appears for the first time after 45 minutes from the credits; she, as a wife and a different viewpoint, comes symbolically with the New Year, at midnight. Her role is a purely supporting one. Who really rocks is Lino Ventura. He IS the middle aged Inspector Antoine Gallien who wants to find out the truth, who is aware that his questions are \"missiles\" towards the other interlocutor but does not hesitate. He is an inspector who, having been married three times, is perfectly acknowledged of women\\\\\\'s psyche. He is the one who does not regard his job as a game to play but a real service. Finally, he is a person who does not find it abnormal to sit there on New Year\\\\\\'s Eve. Michel Serrault also does a fine job expressing fear, particularly in the final scenes of the movie. But thumbs up for Mr Ventura. Brilliant!<br /><br />As far as memorable moments are concerned, this is not the sort of film in which this aspect is easily analyzed. The entire film is memorable, has to be seen more than once and has to be felt with its atmosphere and, which I have not mentioned before, gorgeous music. For me, the talk of Chantal and Inspector Gallien is the most brilliant flawless moment. You are there with the two characters, you experience their states of mind if you go deeper into what you see.<br /><br />GARDE A VUE is a very interesting film, a must see for thrill lovers and connoisseurs of artistic performances. New Year has turned and...is it now easier to open the door? You\\\\\\'ll find out when you decide to see the memorably directed movie by Claude Miller. 8/10\\'',\n",
              "       'b\\'I read Schneebaum\\\\\\'s book (same title as this film) when it was first published and was deeply moved by his ability to see through the many ways of \"otherness\" (his own and the people of the Amazon with whom he lived and loved) to a way of living a decent life. His subsequent books were not as powerful, but showed his continuing quest. His description of his sexual relations with the men of the tribe was way ahead of its time in the early 60\\\\\\'s, but his honesty and openness about it were welcome. This movie beautifully conveys both the quirkiness and generosity of the man, but also provides a glimpse into the inevitable destruction of innocence (which is not a morally positive term, in this case) that occurs when \"civilized\" men intrude on traditional societies. Even so, Schneebaum himself has moved into a kind of higher innocence that suggests the possibility of saving humanity from its own destructiveness.\\'',\n",
              "       'b\"Well, you\\'d better if you plan on sitting through this amateurish, bland, and pokey flick about a middle-aged widowed mom who has a little more in common with her young adult or old teen daughter than she would like. Set in Tunis, mom piddles around the flat, gets antsy, and decides, albeit reluctantly (she just can\\'t help herself), to don the costume and dance in a local cabaret. Meanwhile her daughter is taking dancing lessons. The common denominator is a Tunisian band drummer. This film is so full of filler I watched the DVD at x2 and read the subtitles, fast forwarding through much of the very ordinary dancing and loooong shots of walking (they walk everywhere) and more walking and just plain dawdling at x4 just to get though this boring, uneventful, low budget flick which some how garnered some pretty good critical plaudits. Go figure. (C-)\"'],\n",
              "      dtype='<U13741')"
            ]
          },
          "metadata": {
            "tags": []
          },
          "execution_count": 4
        }
      ]
    },
    {
      "cell_type": "code",
      "metadata": {
        "id": "yBbGZr1ZAKsS",
        "colab_type": "code",
        "colab": {}
      },
      "source": [
        "def build_model(lstm_hidden_size, dense_hidden_size, dropout_rate):\n",
        "    model = Sequential()\n",
        "    model.add(\n",
        "        Embedding(vocab_size, embedding_dim, input_length=max_len)\n",
        "    )\n",
        "    model.add(Bidirectional(LSTM(lstm_hidden_size, return_sequences=True)))\n",
        "    model.add(GlobalMaxPool1D())\n",
        "    model.add(Dense(dense_hidden_size, activation=\"relu\"))\n",
        "    model.add(Dropout(dropout_rate))\n",
        "    model.add(Dense(1, activation=\"sigmoid\"))\n",
        "    model.compile(\n",
        "        loss=\"binary_crossentropy\",\n",
        "        optimizer=Adam(learning_rate=1e-3),\n",
        "        metrics=[\"accuracy\"],\n",
        "    )\n",
        "    return model"
      ],
      "execution_count": 0,
      "outputs": []
    },
    {
      "cell_type": "code",
      "metadata": {
        "id": "yX_I6K39ARIc",
        "colab_type": "code",
        "outputId": "1455b861-e6ea-4a9d-e664-174dc5864d21",
        "colab": {
          "base_uri": "https://localhost:8080/",
          "height": 832
        }
      },
      "source": [
        "model = build_model(16, 64, 0.4)\n",
        "model.summary()\n",
        "history = model.fit(\n",
        "    train_padded,\n",
        "    train_sentiments,\n",
        "    validation_data=(valid_padded, valid_sentiments),\n",
        "    batch_size=batch_size,\n",
        "    epochs=epochs,\n",
        "    shuffle=True,\n",
        "    callbacks=callbacks,\n",
        "    verbose=1\n",
        ")"
      ],
      "execution_count": 6,
      "outputs": [
        {
          "output_type": "stream",
          "text": [
            "Model: \"sequential\"\n",
            "_________________________________________________________________\n",
            "Layer (type)                 Output Shape              Param #   \n",
            "=================================================================\n",
            "embedding (Embedding)        (None, 512, 50)           1000000   \n",
            "_________________________________________________________________\n",
            "bidirectional (Bidirectional (None, 512, 32)           8576      \n",
            "_________________________________________________________________\n",
            "global_max_pooling1d (Global (None, 32)                0         \n",
            "_________________________________________________________________\n",
            "dense (Dense)                (None, 64)                2112      \n",
            "_________________________________________________________________\n",
            "dropout (Dropout)            (None, 64)                0         \n",
            "_________________________________________________________________\n",
            "dense_1 (Dense)              (None, 1)                 65        \n",
            "=================================================================\n",
            "Total params: 1,010,753\n",
            "Trainable params: 1,010,753\n",
            "Non-trainable params: 0\n",
            "_________________________________________________________________\n",
            "Epoch 1/50\n",
            "438/438 [==============================] - 20s 46ms/step - loss: 0.4619 - accuracy: 0.7645 - val_loss: 0.2886 - val_accuracy: 0.8830\n",
            "Epoch 2/50\n",
            "438/438 [==============================] - 21s 47ms/step - loss: 0.1917 - accuracy: 0.9299 - val_loss: 0.2982 - val_accuracy: 0.8795\n",
            "Epoch 3/50\n",
            "438/438 [==============================] - 21s 47ms/step - loss: 0.0930 - accuracy: 0.9706 - val_loss: 0.3686 - val_accuracy: 0.8840\n",
            "Epoch 4/50\n",
            "438/438 [==============================] - 21s 47ms/step - loss: 0.0419 - accuracy: 0.9883 - val_loss: 0.4962 - val_accuracy: 0.8740\n",
            "Epoch 5/50\n",
            "438/438 [==============================] - 21s 48ms/step - loss: 0.0239 - accuracy: 0.9932 - val_loss: 0.5512 - val_accuracy: 0.8645\n",
            "Epoch 6/50\n",
            "438/438 [==============================] - 22s 49ms/step - loss: 0.0224 - accuracy: 0.9934 - val_loss: 0.6033 - val_accuracy: 0.8655\n",
            "Epoch 7/50\n",
            "438/438 [==============================] - 22s 49ms/step - loss: 0.0114 - accuracy: 0.9966 - val_loss: 0.6389 - val_accuracy: 0.8680\n",
            "Epoch 8/50\n",
            "438/438 [==============================] - 22s 51ms/step - loss: 0.0073 - accuracy: 0.9974 - val_loss: 0.7513 - val_accuracy: 0.8600\n",
            "Epoch 9/50\n",
            "438/438 [==============================] - 22s 51ms/step - loss: 0.0114 - accuracy: 0.9964 - val_loss: 0.7556 - val_accuracy: 0.8650\n",
            "Epoch 10/50\n",
            "438/438 [==============================] - 22s 50ms/step - loss: 0.0108 - accuracy: 0.9967 - val_loss: 0.6631 - val_accuracy: 0.8660\n",
            "Epoch 11/50\n",
            "438/438 [==============================] - 22s 50ms/step - loss: 0.0058 - accuracy: 0.9983 - val_loss: 0.8020 - val_accuracy: 0.8580\n",
            "Epoch 12/50\n",
            "438/438 [==============================] - 22s 51ms/step - loss: 0.0100 - accuracy: 0.9974 - val_loss: 0.7046 - val_accuracy: 0.8695\n",
            "Epoch 13/50\n",
            "438/438 [==============================] - 22s 51ms/step - loss: 0.0023 - accuracy: 0.9994 - val_loss: 0.8278 - val_accuracy: 0.8695\n"
          ],
          "name": "stdout"
        }
      ]
    },
    {
      "cell_type": "code",
      "metadata": {
        "id": "aN1v0FUrARK3",
        "colab_type": "code",
        "outputId": "5750269b-a303-4e23-f4a4-4d38d56d422d",
        "colab": {
          "base_uri": "https://localhost:8080/",
          "height": 138
        }
      },
      "source": [
        "hist = {\"train_acc_converge\": history.history[\"accuracy\"][-11],\n",
        "        \"train_acc_final\": history.history[\"accuracy\"][-1],\n",
        "        \"valid_acc_converge\": history.history[\"val_accuracy\"][-11],\n",
        "        \"valid_acc_final\": history.history[\"val_accuracy\"][-1],\n",
        "        \"max_valid_acc\": max(history.history[\"val_accuracy\"]),}\n",
        "\n",
        "print(json.dumps(hist, indent=4))"
      ],
      "execution_count": 7,
      "outputs": [
        {
          "output_type": "stream",
          "text": [
            "{\n",
            "    \"train_acc_converge\": 0.9705714583396912,\n",
            "    \"train_acc_final\": 0.9993571639060974,\n",
            "    \"valid_acc_converge\": 0.8840000033378601,\n",
            "    \"valid_acc_final\": 0.8694999814033508,\n",
            "    \"max_valid_acc\": 0.8840000033378601\n",
            "}\n"
          ],
          "name": "stdout"
        }
      ]
    },
    {
      "cell_type": "code",
      "metadata": {
        "id": "0RTs0F3oDwcS",
        "colab_type": "code",
        "colab": {}
      },
      "source": [
        "oracle = model"
      ],
      "execution_count": 0,
      "outputs": []
    },
    {
      "cell_type": "code",
      "metadata": {
        "id": "3_W2mI7VFSR7",
        "colab_type": "code",
        "colab": {
          "base_uri": "https://localhost:8080/",
          "height": 141
        },
        "outputId": "38441906-33bd-42ce-f4ba-66fb2902bd8c"
      },
      "source": [
        "train_reviews[:5]"
      ],
      "execution_count": 9,
      "outputs": [
        {
          "output_type": "execute_result",
          "data": {
            "text/plain": [
              "array(['b\\'I watched \"Elephant Walk\" for the first time in about 30 years and was struck by how similar the story line is to the greatly superior \"Rebecca.\" As others have said, you have the sweet young thing swept off her feet by the alternately charming and brooding lord of the manor, only to find her marriage threatened by the inescapable memory of a larger-than-life yet deeply flawed relative. You have the stern and disapproving servant, a crisis that will either bind the couple together or tear them irreparably apart, climaxed by the fiery destruction of the lavish homestead.<br /><br />Meanwhile, \"Elephant Walk\" also owes some of its creepy jungle atmosphere to \"The Letter,\" the Bette Davis love triangle set on a Singapore rubber plantation rather than a Sri Lankan tea plantation.<br /><br />Maltin gives \"Elephant Walk\" just two stars, and IMDb readers aren\\\\\\'t much kinder, but I enjoyed it despite its predictability. Elizabeth Taylor never looked lovelier, and Peter Finch does a credible job as the basically good man unable to shake off the influence of his overbearing father. Dana Andrews -- a favorite in \"Laura\" and \"The Best Year of Our Lives\" -- is wasted as Elizabeth\\\\\\'s frustrated admirer. The real star is the bungalow, one of the most beautiful interior sets in movie history.\\'',\n",
              "       'b\"I would put this at the top of my list of films in the category of unwatchable trash! There are films that are bad, but the worst kind are the ones that are unwatchable but you are suppose to like them because they are supposed to be good for you! The sex sequences, so shocking in its day, couldn\\'t even arouse a rabbit. The so called controversial politics is strictly high school sophomore amateur night Marxism. The film is self-consciously arty in the worst sense of the term. The photography is in a harsh grainy black and white. Some scenes are out of focus or taken from the wrong angle. Even the sound is bad! And some people call this art?<br /><br />\"',\n",
              "       'b\\'Police, investigations, murder, suspicion: we are all so acquainted with them in movies galore. Most of the films nowadays deal with crime which is believed to involve viewers, to provide them with a thrilling atmosphere. However, most of thrill lovers will rather concentrate on latest movies of that sort forgetting about older ones. Yet, it occurs that these people may easily be misled. A film entirely based on suspicion may be very interesting now despite being more than 20 years old...it is GARDE A VUE, a unique movie by Claude Miller.<br /><br />Is there much of the action? Not really since the events presented in the movie take place in a considerably short time. But the way they are executed is the movie\\\\\\'s great plus. Jerome Charles Martinaud (Michel Serrault) is being investigated by Inspector Gallien (Lino Ventura) and Insector Belmont (Guy Marchand). It\\\\\\'s a New Year\\\\\\'s Eve, a rainy evening and not very accurate for such a meeting. Yet, after the rape and murder of two children, at the dawn of the old year, the door of suspicion must be open at last. In other words, (more quoted from the movie), it must be revealed who an evil wolf really is. To achieve this, one needs lots of effort and also lots of emotions from both parties...<br /><br />Some people criticize the script for being too wordy. Yet, I would ask them: what should an investigation be like if not many questions and, practically, much talk. This wordiness touches the very roots of the genre. In no way is this boring but throughout the entire film, it makes you, as a viewer, as an observer, involved. Moreover, the film contains well made flashbacks as the stories are being told. Not too much and not too little of them - just enough to make the whole story clearer and more interesting. The most memorable flashbacks, for me, are when Chantal (Romy Schneider), Martinaud\\\\\\'s wife, talks about one lovely Christmas... But these flashbacks also contain the views of the places, including the infamous beach. It all wonderfully helped me keep the right pace. And since I saw GARDE A VUE, I always mention this film as one of the \"defenders\" of French cinema against accusations of mess and chaos. <br /><br />But those already mentioned aspects may not necessarily appeal to many viewers since they might not like such movies and still won\\\\\\'t find the content and its execution satisfactory. Yet, GARDE A VUE is worth seeing also for such people. Why? For the sake of performances. But here don\\\\\\'t expect me to praise foremost Romy Schneider. GARDE A VUE is not Romy Schneider vehicle. She does a terrific job as a mother who is deeply in despair for a lost child. She credibly portrays a person who is calm, concrete, who does not refuse an offered cup of tea but who does not want to play with words. Her part which includes a profound talk of life and duty is brilliant, more credible than the overly melancholic role of Elsa in LA PASSANTE DE SANS SOUCI. It is still acted. However, Romy Schneider does not have much time on screen. Practically, she appears for the first time after 45 minutes from the credits; she, as a wife and a different viewpoint, comes symbolically with the New Year, at midnight. Her role is a purely supporting one. Who really rocks is Lino Ventura. He IS the middle aged Inspector Antoine Gallien who wants to find out the truth, who is aware that his questions are \"missiles\" towards the other interlocutor but does not hesitate. He is an inspector who, having been married three times, is perfectly acknowledged of women\\\\\\'s psyche. He is the one who does not regard his job as a game to play but a real service. Finally, he is a person who does not find it abnormal to sit there on New Year\\\\\\'s Eve. Michel Serrault also does a fine job expressing fear, particularly in the final scenes of the movie. But thumbs up for Mr Ventura. Brilliant!<br /><br />As far as memorable moments are concerned, this is not the sort of film in which this aspect is easily analyzed. The entire film is memorable, has to be seen more than once and has to be felt with its atmosphere and, which I have not mentioned before, gorgeous music. For me, the talk of Chantal and Inspector Gallien is the most brilliant flawless moment. You are there with the two characters, you experience their states of mind if you go deeper into what you see.<br /><br />GARDE A VUE is a very interesting film, a must see for thrill lovers and connoisseurs of artistic performances. New Year has turned and...is it now easier to open the door? You\\\\\\'ll find out when you decide to see the memorably directed movie by Claude Miller. 8/10\\'',\n",
              "       'b\\'I read Schneebaum\\\\\\'s book (same title as this film) when it was first published and was deeply moved by his ability to see through the many ways of \"otherness\" (his own and the people of the Amazon with whom he lived and loved) to a way of living a decent life. His subsequent books were not as powerful, but showed his continuing quest. His description of his sexual relations with the men of the tribe was way ahead of its time in the early 60\\\\\\'s, but his honesty and openness about it were welcome. This movie beautifully conveys both the quirkiness and generosity of the man, but also provides a glimpse into the inevitable destruction of innocence (which is not a morally positive term, in this case) that occurs when \"civilized\" men intrude on traditional societies. Even so, Schneebaum himself has moved into a kind of higher innocence that suggests the possibility of saving humanity from its own destructiveness.\\'',\n",
              "       'b\"Well, you\\'d better if you plan on sitting through this amateurish, bland, and pokey flick about a middle-aged widowed mom who has a little more in common with her young adult or old teen daughter than she would like. Set in Tunis, mom piddles around the flat, gets antsy, and decides, albeit reluctantly (she just can\\'t help herself), to don the costume and dance in a local cabaret. Meanwhile her daughter is taking dancing lessons. The common denominator is a Tunisian band drummer. This film is so full of filler I watched the DVD at x2 and read the subtitles, fast forwarding through much of the very ordinary dancing and loooong shots of walking (they walk everywhere) and more walking and just plain dawdling at x4 just to get though this boring, uneventful, low budget flick which some how garnered some pretty good critical plaudits. Go figure. (C-)\"'],\n",
              "      dtype='<U13741')"
            ]
          },
          "metadata": {
            "tags": []
          },
          "execution_count": 9
        }
      ]
    },
    {
      "cell_type": "code",
      "metadata": {
        "id": "pTyaxoqGDUNM",
        "colab_type": "code",
        "colab": {}
      },
      "source": [
        "import pandas as pd\n",
        "\n",
        "train_sentences = list(train_reviews)\n",
        "oracle_train_labels = [i[0] for i in oracle.predict(train_padded)]\n",
        "oracle_train_labels = [1 if i >= 0.5 else 0 for i in oracle_train_labels]\n",
        "\n",
        "df = pd.DataFrame({\"reviews\": train_sentences, \"oracle_labels\": oracle_train_labels})\n",
        "df.to_csv(\"oracle.csv\", index=False)"
      ],
      "execution_count": 0,
      "outputs": []
    },
    {
      "cell_type": "code",
      "metadata": {
        "id": "55N3WzGHFwZm",
        "colab_type": "code",
        "colab": {
          "base_uri": "https://localhost:8080/",
          "height": 198
        },
        "outputId": "ff3a296b-2174-4f33-ae0a-73e8b42cadcf"
      },
      "source": [
        "df = pd.read_csv(\"oracle.csv\")\n",
        "df.head()"
      ],
      "execution_count": 12,
      "outputs": [
        {
          "output_type": "execute_result",
          "data": {
            "text/html": [
              "<div>\n",
              "<style scoped>\n",
              "    .dataframe tbody tr th:only-of-type {\n",
              "        vertical-align: middle;\n",
              "    }\n",
              "\n",
              "    .dataframe tbody tr th {\n",
              "        vertical-align: top;\n",
              "    }\n",
              "\n",
              "    .dataframe thead th {\n",
              "        text-align: right;\n",
              "    }\n",
              "</style>\n",
              "<table border=\"1\" class=\"dataframe\">\n",
              "  <thead>\n",
              "    <tr style=\"text-align: right;\">\n",
              "      <th></th>\n",
              "      <th>reviews</th>\n",
              "      <th>oracle_labels</th>\n",
              "    </tr>\n",
              "  </thead>\n",
              "  <tbody>\n",
              "    <tr>\n",
              "      <th>0</th>\n",
              "      <td>b'I watched \"Elephant Walk\" for the first time...</td>\n",
              "      <td>1</td>\n",
              "    </tr>\n",
              "    <tr>\n",
              "      <th>1</th>\n",
              "      <td>b\"I would put this at the top of my list of fi...</td>\n",
              "      <td>0</td>\n",
              "    </tr>\n",
              "    <tr>\n",
              "      <th>2</th>\n",
              "      <td>b'Police, investigations, murder, suspicion: w...</td>\n",
              "      <td>1</td>\n",
              "    </tr>\n",
              "    <tr>\n",
              "      <th>3</th>\n",
              "      <td>b'I read Schneebaum\\'s book (same title as thi...</td>\n",
              "      <td>1</td>\n",
              "    </tr>\n",
              "    <tr>\n",
              "      <th>4</th>\n",
              "      <td>b\"Well, you'd better if you plan on sitting th...</td>\n",
              "      <td>0</td>\n",
              "    </tr>\n",
              "  </tbody>\n",
              "</table>\n",
              "</div>"
            ],
            "text/plain": [
              "                                             reviews  oracle_labels\n",
              "0  b'I watched \"Elephant Walk\" for the first time...              1\n",
              "1  b\"I would put this at the top of my list of fi...              0\n",
              "2  b'Police, investigations, murder, suspicion: w...              1\n",
              "3  b'I read Schneebaum\\'s book (same title as thi...              1\n",
              "4  b\"Well, you'd better if you plan on sitting th...              0"
            ]
          },
          "metadata": {
            "tags": []
          },
          "execution_count": 12
        }
      ]
    },
    {
      "cell_type": "code",
      "metadata": {
        "id": "ONuLHZoO9p4V",
        "colab_type": "code",
        "colab": {}
      },
      "source": [
        "end = timer()\n",
        "print((end - start) / 3600)"
      ],
      "execution_count": 0,
      "outputs": []
    },
    {
      "cell_type": "code",
      "metadata": {
        "id": "bM_bjrILCRyh",
        "colab_type": "code",
        "colab": {}
      },
      "source": [
        ""
      ],
      "execution_count": 0,
      "outputs": []
    }
  ]
}